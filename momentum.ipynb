{
 "cells": [
  {
   "cell_type": "code",
   "execution_count": 3,
   "metadata": {},
   "outputs": [],
   "source": [
    "import pandas as pd\n",
    "history_df = pd.read_csv('CAC 40 - history.csv', index_col='Date')"
   ]
  },
  {
   "cell_type": "code",
   "execution_count": 5,
   "metadata": {},
   "outputs": [],
   "source": [
    "import numpy as np\n",
    "import pandas as pd\n",
    "\n",
    "def momentum(history, period, differential='last', method='normal'):\n",
    "    \"\"\"\n",
    "    Calculates the momentum of a time series data over a specified period.\n",
    "\n",
    "    Momentum measures the rate of change in the price of a security over a specific period.\n",
    "    It is commonly used by traders and analysts to identify trends and potential buying or selling signals.\n",
    "\n",
    "    Parameters:\n",
    "    - history (pd.Series or pd.DataFrame): Time series data representing the price or value of a security.\n",
    "    - period (int): The number of data points over which momentum is calculated.\n",
    "    - differential (str, default='last'): Determines how the reference value is calculated within the period.\n",
    "        - 'last': Uses the last value within the rolling window as the reference value.\n",
    "        - 'mean': Uses the mean (average) value within the rolling window as the reference value.\n",
    "    - method (str, default='normal'): Determines the method of calculating momentum.\n",
    "        - 'normal': Calculates the difference between the current value and the reference value.\n",
    "        - 'roc': Calculates the Rate of Change (ROC) as a percentage.\n",
    "        - 'roclog': Calculates the logarithmic Rate of Change (ROC) as a percentage.\n",
    "\n",
    "    Returns:\n",
    "    - pd.Series: Series containing the calculated momentum values.\n",
    "    \"\"\"\n",
    "    # Calculate the reference values based on the selected method\n",
    "    if differential == 'last':\n",
    "        ctx = history.rolling(window=period).apply(lambda x: x[0], raw=True).dropna()\n",
    "    elif differential == 'mean':\n",
    "        ctx = history.rolling(window=period).mean().dropna()\n",
    "\n",
    "    # Reindex the original history to align with the reference values\n",
    "    ct = history.reindex(ctx.index)\n",
    "\n",
    "    # Calculate momentum based on the selected method\n",
    "    if method == 'normal':\n",
    "        mo = ct - ctx\n",
    "    elif method == 'roc':\n",
    "        mo = 100 * ct / ctx\n",
    "    elif method == 'roclog':\n",
    "        mo = 100 * np.log(np.array(ct / ctx))\n",
    "        mo = pd.Series(mo, index=history.index[-len(ct):])\n",
    "    return mo\n"
   ]
  },
  {
   "cell_type": "code",
   "execution_count": 10,
   "metadata": {},
   "outputs": [],
   "source": [
    "import ipywidgets as widgets\n",
    "from IPython.display import display\n",
    "import matplotlib.pyplot as plt\n",
    "import matplotlib.ticker\n",
    "import pandas as pd\n",
    "\n",
    "def plot(history, period, differential, method, n_stock): \n",
    "    \"\"\"\n",
    "    Plots the first and last momentum for the given historical data.\n",
    "    \n",
    "    Args:\n",
    "        history (pd.DataFrame): Historical data containing stock information.\n",
    "        period (int): The period for momentum calculation.\n",
    "        differential (str): The method for differential calculation, can be 'last' or 'mean'.\n",
    "        method (str): The method for momentum calculation, can be 'normal', 'roc', or 'roclog'.\n",
    "        n_stock (int): The number of top and flop stocks to display.\n",
    "    \"\"\"\n",
    "    # Create a series to store momentum results for each stock\n",
    "    df = pd.Series()\n",
    "    # Calculate momentum for each stock in the history\n",
    "    for ticker in history.columns.unique():\n",
    "        df[ticker] = momentum(history[ticker], period=period, differential=differential, method=method).iloc[-1]\n",
    "    # Drop NaN values\n",
    "    df = df.dropna()\n",
    "\n",
    "    # Select the last n_stock values for the first and second plot (strongest and weakestmomentum)\n",
    "    df_first = df.sort_values().tail(n_stock)\n",
    "    df_last = df.sort_values().head(n_stock)\n",
    "\n",
    "    # Create the figure and two subplots\n",
    "    fig, (ax1, ax2) = plt.subplots(1, 2, figsize=(10, 5))\n",
    "    df_first.sort_values(ascending=True).plot(kind='barh', color='g', ax=ax2)\n",
    "    df_last.sort_values(ascending=False).plot(kind='barh', color='r', ax=ax1)\n",
    "\n",
    "    # Display y-axis on the right side of the second graph\n",
    "    ax2.yaxis.set_ticks_position('right')\n",
    "\n",
    "    # Set x-axis limits for each graph\n",
    "    ax1.set_xlim([df_last.min()*1.3, 0])\n",
    "    ax2.set_xlim([0, df_first.max()*1.3])\n",
    "\n",
    "    # Display x-axis scale only as integers\n",
    "    ax1.xaxis.set_major_locator(matplotlib.ticker.MaxNLocator(integer=True))\n",
    "    ax2.xaxis.set_major_locator(matplotlib.ticker.MaxNLocator(integer=True))\n",
    "\n",
    "    # Display variations directly on the graph\n",
    "    for i, v in enumerate(df_last.sort_values(ascending=False)):\n",
    "        ax1.text(df_last.min()*0.18+v, i, f\"{v:.2f}\", color='r')\n",
    "    for i, v in enumerate(df_first):\n",
    "        ax2.text(df_first.min()*0.05+v, i, f\"{v:.2f}\", color='g')\n",
    "\n",
    "    # Add a title to the figure\n",
    "    fig.suptitle('First and last momentum', y=0.95)\n",
    "\n",
    "    # Adjust the gap between the two graphs\n",
    "    fig.subplots_adjust(wspace=0.05)\n",
    "    \n",
    "    plt.show()\n",
    "\n",
    "def show(history):\n",
    "    \"\"\"Display interactive controls for selecting frequency and time range\"\"\"\n",
    "    # Creating interactive controls for selecting frequency and time range\n",
    "    controls = widgets.interactive(\n",
    "        plot,\n",
    "        history=widgets.fixed(history),\n",
    "        n_stock=widgets.IntText(value=5, description='Stocks:', disabled=False),\n",
    "        period=widgets.IntText(value=20, description='Periods:', disabled=False),\n",
    "        differential=widgets.Select(options=['last', 'mean'], value='last', description='Differential:'),\n",
    "        method=widgets.Select(options=['normal', 'roc', 'roclog'], value='normal', description='Method:'),\n",
    "    )\n",
    "\n",
    "    # Displaying the interactive controls\n",
    "    display(controls)"
   ]
  },
  {
   "cell_type": "code",
   "execution_count": 11,
   "metadata": {},
   "outputs": [
    {
     "data": {
      "application/vnd.jupyter.widget-view+json": {
       "model_id": "0248995dabf34233a2509afb328ff512",
       "version_major": 2,
       "version_minor": 0
      },
      "text/plain": [
       "interactive(children=(IntText(value=20, description='Periods:'), Select(description='Differential:', options=(…"
      ]
     },
     "metadata": {},
     "output_type": "display_data"
    }
   ],
   "source": [
    "show(history=history_df)"
   ]
  },
  {
   "cell_type": "code",
   "execution_count": null,
   "metadata": {},
   "outputs": [],
   "source": []
  }
 ],
 "metadata": {
  "kernelspec": {
   "display_name": "Python 3",
   "language": "python",
   "name": "python3"
  },
  "language_info": {
   "codemirror_mode": {
    "name": "ipython",
    "version": 3
   },
   "file_extension": ".py",
   "mimetype": "text/x-python",
   "name": "python",
   "nbconvert_exporter": "python",
   "pygments_lexer": "ipython3",
   "version": "3.12.1"
  }
 },
 "nbformat": 4,
 "nbformat_minor": 2
}
